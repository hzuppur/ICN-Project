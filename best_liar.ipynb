{
 "cells": [
  {
   "cell_type": "markdown",
   "metadata": {},
   "source": [
    "# Import"
   ]
  },
  {
   "cell_type": "code",
   "execution_count": 1,
   "metadata": {},
   "outputs": [],
   "source": [
    "import matplotlib.pyplot as plt\n",
    "import numpy as np\n",
    "import pandas as pd\n",
    "%matplotlib inline"
   ]
  },
  {
   "cell_type": "markdown",
   "metadata": {},
   "source": [
    "# Determine best liar"
   ]
  },
  {
   "cell_type": "code",
   "execution_count": 2,
   "metadata": {},
   "outputs": [],
   "source": [
    "file_name_pairs = [(\"./Data/January 18/egert_answers\", \"./Data/January 18/18.01_egert_lied.txt\"),\n",
    "                   (\"./Data/January 17/hain_answers.txt\", \"./Data/January 17/17.01_hain_lied.txt\"),\n",
    "                   (\"./Data/January 17/merili_answers.txt\", \"./Data/January 17/17.01_merili_lied.txt\"),\n",
    "                   (\"./Data/January 18/ralf_answers\", \"./Data/January 18/18.01_ralf_lied.txt\")]"
   ]
  },
  {
   "cell_type": "code",
   "execution_count": 3,
   "metadata": {},
   "outputs": [
    {
     "name": "stdout",
     "output_type": "stream",
     "text": [
      "0.5645161290322581\n",
      "0.5\n",
      "0.4166666666666667\n",
      "0.45\n"
     ]
    }
   ],
   "source": [
    "for file_name_pair in file_name_pairs:\n",
    "    answers = []\n",
    "    predictions = []\n",
    "    \n",
    "    with open(file_name_pair[0], 'r') as file:\n",
    "        f = file.readlines()\n",
    "        for line in f:\n",
    "            k = line.split()\n",
    "            answers.append(k[0]==\"T\")\n",
    "        \n",
    "    with open(file_name_pair[1], 'r') as file:\n",
    "        f = file.readlines()\n",
    "        for line in f:\n",
    "            k = line.strip()\n",
    "            predictions.append(k=='T')\n",
    "    \n",
    "    answers = np.asarray(answers)\n",
    "    predictions = np.asarray(predictions)\n",
    "    print(np.mean(answers == predictions))"
   ]
  }
 ],
 "metadata": {
  "kernelspec": {
   "display_name": "Python 3",
   "language": "python",
   "name": "python3"
  },
  "language_info": {
   "codemirror_mode": {
    "name": "ipython",
    "version": 3
   },
   "file_extension": ".py",
   "mimetype": "text/x-python",
   "name": "python",
   "nbconvert_exporter": "python",
   "pygments_lexer": "ipython3",
   "version": "3.7.3"
  }
 },
 "nbformat": 4,
 "nbformat_minor": 2
}
