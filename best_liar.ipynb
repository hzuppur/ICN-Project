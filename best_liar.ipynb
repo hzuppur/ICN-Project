{
 "cells": [
  {
   "cell_type": "code",
   "execution_count": 60,
   "metadata": {},
   "outputs": [],
   "source": [
    "import matplotlib.pyplot as plt\n",
    "import numpy as np\n",
    "import pandas as pd\n",
    "%matplotlib inline"
   ]
  },
  {
   "cell_type": "code",
   "execution_count": 61,
   "metadata": {},
   "outputs": [],
   "source": [
    "file_name_pairs = [(\"./Data/January 18/egert_vastused\", \"./Data/January 18/18.01_egert_valetas.txt\"),\n",
    "                   (\"./Data/January 17/vastused_hain.txt\", \"./Data/January 17/17.01_Hain_valetas.txt\"),\n",
    "                   (\"./Data/January 17/vastused_merili.txt\", \"./Data/January 17/17.01_Merili_valetas.txt\"),\n",
    "                   (\"./Data/January 18/ralfi_vastused\", \"./Data/January 18/18.01_ralf_valetas.txt\")]"
   ]
  },
  {
   "cell_type": "code",
   "execution_count": 62,
   "metadata": {},
   "outputs": [
    {
     "name": "stdout",
     "output_type": "stream",
     "text": [
      "0.5645161290322581\n",
      "0.5\n",
      "0.4166666666666667\n",
      "0.45\n"
     ]
    }
   ],
   "source": [
    "for file_name_pair in file_name_pairs:\n",
    "    answers = []\n",
    "    predictions = []\n",
    "    \n",
    "    with open(file_name_pair[0], 'r') as file:\n",
    "        f = file.readlines()\n",
    "        for line in f:\n",
    "            k = line.split()\n",
    "            answers.append(k[0]==\"T\")\n",
    "        \n",
    "    with open(file_name_pair[1], 'r') as file:\n",
    "        f = file.readlines()\n",
    "        for line in f:\n",
    "            k = line.strip()\n",
    "            predictions.append(k=='T')\n",
    "    \n",
    "    answers = np.asarray(answers)\n",
    "    predictions = np.asarray(predictions)\n",
    "    print(np.mean(answers == predictions))"
   ]
  }
 ],
 "metadata": {
  "kernelspec": {
   "display_name": "Python 3",
   "language": "python",
   "name": "python3"
  },
  "language_info": {
   "codemirror_mode": {
    "name": "ipython",
    "version": 3
   },
   "file_extension": ".py",
   "mimetype": "text/x-python",
   "name": "python",
   "nbconvert_exporter": "python",
   "pygments_lexer": "ipython3",
   "version": "3.7.3"
  }
 },
 "nbformat": 4,
 "nbformat_minor": 2
}
