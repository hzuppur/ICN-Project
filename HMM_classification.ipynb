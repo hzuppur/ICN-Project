{
 "cells": [
  {
   "cell_type": "markdown",
   "metadata": {},
   "source": [
    "# Import packages and load in the data"
   ]
  },
  {
   "cell_type": "code",
   "execution_count": 1,
   "metadata": {},
   "outputs": [],
   "source": [
    "import pandas as pd\n",
    "import numpy as np\n",
    "from datetime import datetime, timedelta\n",
    "import matplotlib.pyplot as plt\n",
    "import numpy as np\n",
    "\n",
    "def window_rms(a, window_size):\n",
    "    a2 = np.power(a,2)\n",
    "    window = np.ones(window_size)/float(window_size)\n",
    "    return np.sqrt(np.convolve(a2, window, 'valid'))\n"
   ]
  },
  {
   "cell_type": "code",
   "execution_count": 15,
   "metadata": {},
   "outputs": [
    {
     "name": "stdout",
     "output_type": "stream",
     "text": [
      "(48, 1001)\n",
      "(48, 1001)\n",
      "(2, 49)\n",
      "(2, 49)\n",
      "(60, 1001)\n",
      "(2, 109)\n",
      "(62, 1001)\n",
      "(62, 1001)\n",
      "(2, 171)\n"
     ]
    }
   ],
   "source": [
    "import numpy as np\n",
    "\n",
    "#specify, what file nr to read\n",
    "subject = \"ralf\"\n",
    "\n",
    "with open(\"./Processed_data/Cheek/{}\".format(subject), 'rb') as file:\n",
    "    result = np.load(file)\n",
    "    result -= result.mean()\n",
    "    print(result.shape)\n",
    "    cheek_array = result\n",
    "    \n",
    "with open(\"./Processed_data/Brow/{}\".format(subject), 'rb') as file:\n",
    "    result = np.load(file)\n",
    "    result -= result.mean()\n",
    "    print(result.shape)\n",
    "    brow_array = result\n",
    "    \n",
    "with open(\"./Processed_data/Decisions/{}\".format(subject), 'rb') as file:\n",
    "    meta = np.load(file)\n",
    "    print(meta.shape)\n",
    "    \n",
    "    \n",
    "#specify, what file nr to read\n",
    "subject = \"ralf_2\"\n",
    "\n",
    "with open(\"./Processed_data/Cheek/{}\".format(subject), 'rb') as file:\n",
    "    result = np.load(file)\n",
    "    result -= result.mean()\n",
    "    cheek_array = np.concatenate([cheek_array,result], axis=0)\n",
    "    print(meta.shape)\n",
    "    \n",
    "with open(\"./Processed_data/Brow/{}\".format(subject), 'rb') as file:\n",
    "    result = np.load(file)\n",
    "    result -= result.mean()\n",
    "    brow_array =  np.concatenate([brow_array,result],axis=0)\n",
    "    print(result.shape)\n",
    "    \n",
    "with open(\"./Processed_data/Decisions/{}\".format(subject), 'rb') as file:\n",
    "    meta =  np.concatenate([meta,np.load(file)],axis=1)\n",
    "    print(meta.shape)\n",
    "\n",
    "    \n",
    "#specify, what file nr to read\n",
    "subject = \"egert\"\n",
    "\n",
    "with open(\"./Processed_data/Cheek/{}\".format(subject), 'rb') as file:\n",
    "    result = np.load(file)\n",
    "    result -= result.mean()\n",
    "    cheek_array = np.concatenate([cheek_array,result], axis=0)\n",
    "    print(result.shape)\n",
    "\n",
    "with open(\"./Processed_data/Brow/{}\".format(subject), 'rb') as file:\n",
    "    result = np.load(file)\n",
    "    result -= result.mean()\n",
    "    brow_array =  np.concatenate([brow_array,result],axis=0)\n",
    "    print(result.shape)\n",
    "    \n",
    "with open(\"./Processed_data/Decisions/{}\".format(subject), 'rb') as file:\n",
    "    meta = np.concatenate([meta,np.load(file)],axis=1)\n",
    "    print(meta.shape)"
   ]
  },
  {
   "cell_type": "code",
   "execution_count": 10,
   "metadata": {},
   "outputs": [
    {
     "data": {
      "text/plain": [
       "(2, 171)"
      ]
     },
     "execution_count": 10,
     "metadata": {},
     "output_type": "execute_result"
    }
   ],
   "source": [
    "meta.shape"
   ]
  },
  {
   "cell_type": "code",
   "execution_count": 11,
   "metadata": {},
   "outputs": [
    {
     "data": {
      "text/plain": [
       "(170, 1001)"
      ]
     },
     "execution_count": 11,
     "metadata": {},
     "output_type": "execute_result"
    }
   ],
   "source": [
    "cheek_array.shape"
   ]
  },
  {
   "cell_type": "markdown",
   "metadata": {},
   "source": [
    "## RMS"
   ]
  },
  {
   "cell_type": "code",
   "execution_count": 7,
   "metadata": {},
   "outputs": [
    {
     "ename": "IndexError",
     "evalue": "boolean index did not match indexed array along dimension 0; dimension is 170 but corresponding boolean dimension is 171",
     "output_type": "error",
     "traceback": [
      "\u001b[0;31m---------------------------------------------------------------------------\u001b[0m",
      "\u001b[0;31mIndexError\u001b[0m                                Traceback (most recent call last)",
      "\u001b[0;32m<ipython-input-7-e0c22b8d710c>\u001b[0m in \u001b[0;36m<module>\u001b[0;34m()\u001b[0m\n\u001b[1;32m     10\u001b[0m \u001b[0;34m\u001b[0m\u001b[0m\n\u001b[1;32m     11\u001b[0m \u001b[0;34m\u001b[0m\u001b[0m\n\u001b[0;32m---> 12\u001b[0;31m \u001b[0;32mfor\u001b[0m \u001b[0mar\u001b[0m \u001b[0;32min\u001b[0m \u001b[0mcheek_array_rms\u001b[0m\u001b[0;34m[\u001b[0m\u001b[0mmeta\u001b[0m\u001b[0;34m[\u001b[0m\u001b[0;36m1\u001b[0m\u001b[0;34m]\u001b[0m\u001b[0;34m,\u001b[0m\u001b[0;34m:\u001b[0m\u001b[0;34m]\u001b[0m\u001b[0;34m:\u001b[0m\u001b[0;34m\u001b[0m\u001b[0m\n\u001b[0m\u001b[1;32m     13\u001b[0m     \u001b[0maxes\u001b[0m\u001b[0;34m[\u001b[0m\u001b[0;36m0\u001b[0m\u001b[0;34m]\u001b[0m\u001b[0;34m.\u001b[0m\u001b[0mplot\u001b[0m\u001b[0;34m(\u001b[0m\u001b[0mar\u001b[0m\u001b[0;34m)\u001b[0m\u001b[0;34m\u001b[0m\u001b[0m\n\u001b[1;32m     14\u001b[0m \u001b[0;34m\u001b[0m\u001b[0m\n",
      "\u001b[0;31mIndexError\u001b[0m: boolean index did not match indexed array along dimension 0; dimension is 170 but corresponding boolean dimension is 171"
     ]
    },
    {
     "data": {
      "image/png": "[encoded data removed]",
      "text/plain": [
       "<Figure size 1080x720 with 2 Axes>"
      ]
     },
     "metadata": {},
     "output_type": "display_data"
    }
   ],
   "source": [
    "window_size = 5\n",
    "\n",
    "cheek_array_rms = np.array([window_rms(ar,window_size) for ar in cheek_array])\n",
    "cheek_array_rms.shape\n",
    "\n",
    "\n",
    "brow_array_rms = np.array([window_rms(ar,window_size) for ar in brow_array])\n",
    "cheek_array_rms.shape\n",
    "fig, axes = plt.subplots(2,1, figsize=(15,10))\n",
    "\n",
    "\n",
    "for ar in cheek_array_rms[meta[1],:]:\n",
    "    axes[0].plot(ar)\n",
    "\n",
    "for ar in cheek_array_rms[~meta[1],:]:\n",
    "    axes[1].plot(ar)\n",
    "fig.show()\n",
    "\n",
    "fig, axes = plt.subplots(2,1, figsize=(15,10))\n",
    "for ar in brow_array_rms[meta[1],:]:\n",
    "    axes[0].plot(ar)\n",
    "\n",
    "for ar in brow_array_rms[~meta[1],:]:\n",
    "    axes[1].plot(ar)\n",
    "fig.show()"
   ]
  }
 ],
 "metadata": {
  "kernelspec": {
   "display_name": "Python 3",
   "language": "python",
   "name": "python3"
  },
  "language_info": {
   "codemirror_mode": {
    "name": "ipython",
    "version": 3
   },
   "file_extension": ".py",
   "mimetype": "text/x-python",
   "name": "python",
   "nbconvert_exporter": "python",
   "pygments_lexer": "ipython3",
   "version": "3.6.5"
  }
 },
 "nbformat": 4,
 "nbformat_minor": 2
}
